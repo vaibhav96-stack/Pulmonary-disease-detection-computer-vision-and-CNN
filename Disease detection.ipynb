{
 "cells": [
  {
   "cell_type": "code",
   "execution_count": 3,
   "id": "0cc7f6fc",
   "metadata": {},
   "outputs": [
    {
     "name": "stdout",
     "output_type": "stream",
     "text": [
      "           File name    Prediction\n",
      "0       COVID-11.png         COVID\n",
      "1  image_0_1259.jpeg         COVID\n",
      "2  image_0_5494.jpeg         COVID\n",
      "3  image_0_6012.jpeg  Lung_Opacity\n",
      "4  image_0_6758.jpeg         COVID\n",
      "5  image_0_8798.jpeg         COVID\n",
      "6  image_0_9554.jpeg  Lung_Opacity\n"
     ]
    }
   ],
   "source": [
    "from tensorflow.keras.preprocessing import image\n",
    "from keras.models import load_model\n",
    "import os\n",
    "import pandas as pd\n",
    "import numpy as np\n",
    "folder=r\"C:\\Users\\vaibhav\\Downloads\\Covid\"#Folder containing images\n",
    "model=load_model(r\"C:\\Users\\vaibhav\\Downloads/Finalmodel2.h5\")\n",
    "arr=['COVID', 'Lung_Opacity', 'Normal', 'Viral Pneumonia']\n",
    "file_name=[]\n",
    "y_predicted=[]\n",
    "for filename in os.listdir(folder):\n",
    "    img = image.load_img(os.path.join(folder,filename), target_size=(200, 200))\n",
    "  \n",
    "\n",
    "    img_array = image.img_to_array(img)\n",
    "\n",
    "    img_batch = np.expand_dims(img_array, axis=0)\n",
    "\n",
    "    img_batch=img_batch/255.0\n",
    "    prediction=model.predict(img_batch)\n",
    "    index=0\n",
    "    maxi=-9999\n",
    "  #print(prediction)\n",
    "    for i in range(len(prediction[0])):\n",
    "        if prediction[0][i]>maxi:\n",
    "            maxi=prediction[0][i]\n",
    "            index=i\n",
    "    file_name.append(filename)\n",
    "    y_predicted.append(arr[index])\n",
    "mp={\n",
    "    'File name':file_name,\n",
    "    'Prediction':y_predicted\n",
    "}\n",
    "df=pd.DataFrame(mp)\n",
    "print(df)\n"
   ]
  },
  {
   "cell_type": "code",
   "execution_count": null,
   "id": "ebc8f04c",
   "metadata": {},
   "outputs": [],
   "source": []
  }
 ],
 "metadata": {
  "kernelspec": {
   "display_name": "Python 3",
   "language": "python",
   "name": "python3"
  },
  "language_info": {
   "codemirror_mode": {
    "name": "ipython",
    "version": 3
   },
   "file_extension": ".py",
   "mimetype": "text/x-python",
   "name": "python",
   "nbconvert_exporter": "python",
   "pygments_lexer": "ipython3",
   "version": "3.8.8"
  }
 },
 "nbformat": 4,
 "nbformat_minor": 5
}
